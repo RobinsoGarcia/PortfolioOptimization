{
 "cells": [
  {
   "cell_type": "code",
   "execution_count": 1,
   "metadata": {
    "collapsed": false
   },
   "outputs": [],
   "source": [
    "import portfolio as prt\n",
    "import numpy as np\n",
    "import matplotlib.pyplot as plt\n",
    "import portfolio as prt\n",
    "import pandas as pd\n",
    "%matplotlib inline\n",
    "plt.style.use('ggplot')\n",
    "quotes, returns = prt.load_data()"
   ]
  },
  {
   "cell_type": "code",
   "execution_count": 2,
   "metadata": {
    "collapsed": false
   },
   "outputs": [],
   "source": [
    "data,returns = prt.load_data()\n",
    "start = '1/2/2015' \n",
    "init_port = {'MSFT':5000,'F':950,'CRAY':2000,'VZ':2000,'AAPL':3000,'IBM':1500,'NVDA':1001}\n",
    "portfolio=[]\n",
    "for x in data.columns:\n",
    "    if x in init_port:\n",
    "        portfolio.append(init_port[x])\n",
    "    else:\n",
    "        portfolio.append(0)\n",
    "portfolio = np.array(portfolio)         "
   ]
  },
  {
   "cell_type": "code",
   "execution_count": 3,
   "metadata": {
    "collapsed": false
   },
   "outputs": [],
   "source": [
    "def get_data(t,T,start,data):\n",
    "    period = pd.date_range(start, periods=T, freq='BMs',format='%Y-%m-%d')\n",
    "    data = data.loc[:period[t]] \n",
    "    returns = data.shift(1)/data-1\n",
    "    Q = np.array(prt.cov(returns))\n",
    "    mu = np.array(returns.mean())\n",
    "    p = data[-1:]\n",
    "    return Q,mu,p.values,np.array(returns)"
   ]
  },
  {
   "cell_type": "code",
   "execution_count": 12,
   "metadata": {
    "collapsed": false
   },
   "outputs": [],
   "source": [
    "def update_cash_account(w,p,V,share_balance):\n",
    "    w[w<0.001]=0\n",
    "    new_balance = np.array(w*V/p)\n",
    "    new_balance[new_balance<1]=0\n",
    "    new_balance =[np.round(x) for x in new_balance]\n",
    "    transactions = -1*(new_balance-share_balance)\n",
    "    return float(np.dot(transactions,p.T)),new_balance"
   ]
  },
  {
   "cell_type": "code",
   "execution_count": 13,
   "metadata": {
    "collapsed": false
   },
   "outputs": [],
   "source": [
    "def backtest_port(method,data,init_port,portfolio,dt=2,rf=0.0001,T=24):\n",
    "    V_0 = [data.loc[start][x]*init_port[x] for x in init_port]\n",
    "    rf = 0.0001\n",
    "    dt=2\n",
    "    cash_account = 0\n",
    "    portfolio_return = np.empty([1,3])\n",
    "\n",
    "    share_balance = portfolio\n",
    "    w = share_balance/sum(V_0)\n",
    "\n",
    "    period = data.index[data.index.is_month_start]\n",
    "    for t in np.arange(2,24,dt):\n",
    "\n",
    "        Q,mu,p,ret = get_data(t,24,start,data)\n",
    "        V = np.sum(p*share_balance) + cash_account*(1+rf)**t\n",
    "        port = prt.portfolio(Q,mu,p,V)\n",
    "        port.calculate_performance(w,ret)\n",
    "\n",
    "        w = port.select_by(method,ret)\n",
    "        add_cash_account,share_balance = update_cash_account(w,p,V,share_balance)\n",
    "        cash_account += add_cash_account\n",
    "        portfolio_return = np.vstack([portfolio_return,[port.performance,cash_account,V/1e6]])\n",
    "\n",
    "    \n",
    "    plt.plot(portfolio_return[:,0])\n",
    "    plt.figure()\n",
    "    plt.plot(portfolio_return[:,1])"
   ]
  },
  {
   "cell_type": "code",
   "execution_count": 14,
   "metadata": {
    "collapsed": false
   },
   "outputs": [
    {
     "ename": "TypeError",
     "evalue": "unsupported operand type(s) for -: 'list' and 'list'",
     "output_type": "error",
     "traceback": [
      "\u001b[1;31m---------------------------------------------------------------------------\u001b[0m",
      "\u001b[1;31mTypeError\u001b[0m                                 Traceback (most recent call last)",
      "\u001b[1;32m<ipython-input-14-57153d68b973>\u001b[0m in \u001b[0;36m<module>\u001b[1;34m()\u001b[0m\n\u001b[1;32m----> 1\u001b[1;33m \u001b[0mbacktest_port\u001b[0m\u001b[1;33m(\u001b[0m\u001b[1;34m'sharpe'\u001b[0m\u001b[1;33m,\u001b[0m\u001b[0mdata\u001b[0m\u001b[1;33m,\u001b[0m\u001b[0minit_port\u001b[0m\u001b[1;33m,\u001b[0m\u001b[0mportfolio\u001b[0m\u001b[1;33m,\u001b[0m\u001b[0mdt\u001b[0m\u001b[1;33m=\u001b[0m\u001b[1;36m2\u001b[0m\u001b[1;33m,\u001b[0m\u001b[0mrf\u001b[0m\u001b[1;33m=\u001b[0m\u001b[1;36m0.0001\u001b[0m\u001b[1;33m,\u001b[0m\u001b[0mT\u001b[0m\u001b[1;33m=\u001b[0m\u001b[1;36m24\u001b[0m\u001b[1;33m)\u001b[0m\u001b[1;33m\u001b[0m\u001b[0m\n\u001b[0m",
      "\u001b[1;32m<ipython-input-13-d56e2521b857>\u001b[0m in \u001b[0;36mbacktest_port\u001b[1;34m(method, data, init_port, portfolio, dt, rf, T)\u001b[0m\n\u001b[0;32m     18\u001b[0m \u001b[1;33m\u001b[0m\u001b[0m\n\u001b[0;32m     19\u001b[0m         \u001b[0mw\u001b[0m \u001b[1;33m=\u001b[0m \u001b[0mport\u001b[0m\u001b[1;33m.\u001b[0m\u001b[0mselect_by\u001b[0m\u001b[1;33m(\u001b[0m\u001b[0mmethod\u001b[0m\u001b[1;33m,\u001b[0m\u001b[0mret\u001b[0m\u001b[1;33m)\u001b[0m\u001b[1;33m\u001b[0m\u001b[0m\n\u001b[1;32m---> 20\u001b[1;33m         \u001b[0madd_cash_account\u001b[0m\u001b[1;33m,\u001b[0m\u001b[0mshare_balance\u001b[0m \u001b[1;33m=\u001b[0m \u001b[0mupdate_cash_account\u001b[0m\u001b[1;33m(\u001b[0m\u001b[0mw\u001b[0m\u001b[1;33m,\u001b[0m\u001b[0mp\u001b[0m\u001b[1;33m,\u001b[0m\u001b[0mV\u001b[0m\u001b[1;33m,\u001b[0m\u001b[0mshare_balance\u001b[0m\u001b[1;33m)\u001b[0m\u001b[1;33m\u001b[0m\u001b[0m\n\u001b[0m\u001b[0;32m     21\u001b[0m         \u001b[0mcash_account\u001b[0m \u001b[1;33m+=\u001b[0m \u001b[0madd_cash_account\u001b[0m\u001b[1;33m\u001b[0m\u001b[0m\n\u001b[0;32m     22\u001b[0m         \u001b[0mportfolio_return\u001b[0m \u001b[1;33m=\u001b[0m \u001b[0mnp\u001b[0m\u001b[1;33m.\u001b[0m\u001b[0mvstack\u001b[0m\u001b[1;33m(\u001b[0m\u001b[1;33m[\u001b[0m\u001b[0mportfolio_return\u001b[0m\u001b[1;33m,\u001b[0m\u001b[1;33m[\u001b[0m\u001b[0mport\u001b[0m\u001b[1;33m.\u001b[0m\u001b[0mperformance\u001b[0m\u001b[1;33m,\u001b[0m\u001b[0mcash_account\u001b[0m\u001b[1;33m,\u001b[0m\u001b[0mV\u001b[0m\u001b[1;33m/\u001b[0m\u001b[1;36m1e6\u001b[0m\u001b[1;33m]\u001b[0m\u001b[1;33m]\u001b[0m\u001b[1;33m)\u001b[0m\u001b[1;33m\u001b[0m\u001b[0m\n",
      "\u001b[1;32m<ipython-input-12-53ccc1b9f090>\u001b[0m in \u001b[0;36mupdate_cash_account\u001b[1;34m(w, p, V, share_balance)\u001b[0m\n\u001b[0;32m      4\u001b[0m     \u001b[0mnew_balance\u001b[0m\u001b[1;33m[\u001b[0m\u001b[0mnew_balance\u001b[0m\u001b[1;33m<\u001b[0m\u001b[1;36m1\u001b[0m\u001b[1;33m]\u001b[0m\u001b[1;33m=\u001b[0m\u001b[1;36m0\u001b[0m\u001b[1;33m\u001b[0m\u001b[0m\n\u001b[0;32m      5\u001b[0m     \u001b[0mnew_balance\u001b[0m \u001b[1;33m=\u001b[0m\u001b[1;33m[\u001b[0m\u001b[0mnp\u001b[0m\u001b[1;33m.\u001b[0m\u001b[0mround\u001b[0m\u001b[1;33m(\u001b[0m\u001b[0mx\u001b[0m\u001b[1;33m)\u001b[0m \u001b[1;32mfor\u001b[0m \u001b[0mx\u001b[0m \u001b[1;32min\u001b[0m \u001b[0mnew_balance\u001b[0m\u001b[1;33m]\u001b[0m\u001b[1;33m\u001b[0m\u001b[0m\n\u001b[1;32m----> 6\u001b[1;33m     \u001b[0mtransactions\u001b[0m \u001b[1;33m=\u001b[0m \u001b[1;33m-\u001b[0m\u001b[1;36m1\u001b[0m\u001b[1;33m*\u001b[0m\u001b[1;33m(\u001b[0m\u001b[0mnew_balance\u001b[0m\u001b[1;33m-\u001b[0m\u001b[0mshare_balance\u001b[0m\u001b[1;33m)\u001b[0m\u001b[1;33m\u001b[0m\u001b[0m\n\u001b[0m\u001b[0;32m      7\u001b[0m     \u001b[1;32mreturn\u001b[0m \u001b[0mfloat\u001b[0m\u001b[1;33m(\u001b[0m\u001b[0mnp\u001b[0m\u001b[1;33m.\u001b[0m\u001b[0mdot\u001b[0m\u001b[1;33m(\u001b[0m\u001b[0mtransactions\u001b[0m\u001b[1;33m,\u001b[0m\u001b[0mp\u001b[0m\u001b[1;33m.\u001b[0m\u001b[0mT\u001b[0m\u001b[1;33m)\u001b[0m\u001b[1;33m)\u001b[0m\u001b[1;33m,\u001b[0m\u001b[0mnew_balance\u001b[0m\u001b[1;33m\u001b[0m\u001b[0m\n",
      "\u001b[1;31mTypeError\u001b[0m: unsupported operand type(s) for -: 'list' and 'list'"
     ]
    }
   ],
   "source": [
    "backtest_port('sharpe',data,init_port,portfolio,dt=2,rf=0.0001,T=24)\n"
   ]
  },
  {
   "cell_type": "code",
   "execution_count": null,
   "metadata": {
    "collapsed": true
   },
   "outputs": [],
   "source": []
  },
  {
   "cell_type": "code",
   "execution_count": 7,
   "metadata": {
    "collapsed": false
   },
   "outputs": [
    {
     "data": {
      "image/png": "[encoded data removed]",
      "text/plain": [
       "<matplotlib.figure.Figure at 0x7feb18a84898>"
      ]
     },
     "metadata": {},
     "output_type": "display_data"
    }
   ],
   "source": [
    "data,returns = prt.load_data()\n",
    "mu = returns.mean()\n",
    "Q = prt.cov(returns)\n",
    "port = prt.portfolio(Q,mu)\n",
    "plt.rcParams.update(plt.rcParamsDefault)\n",
    "inline_rc = dict(plt.rcParams)\n",
    "port.plot()"
   ]
  },
  {
   "cell_type": "code",
   "execution_count": 8,
   "metadata": {
    "collapsed": false
   },
   "outputs": [
    {
     "data": {
      "text/plain": [
       "array([[1., 1., 1., 1., 1., 1., 1., 1., 1., 1., 1., 1., 1., 1., 1., 1.,\n",
       "        1., 1., 1., 1.],\n",
       "       [1., 1., 1., 1., 1., 1., 1., 1., 1., 1., 1., 1., 1., 1., 1., 1.,\n",
       "        1., 1., 1., 1.]])"
      ]
     },
     "execution_count": 8,
     "metadata": {},
     "output_type": "execute_result"
    }
   ],
   "source": [
    "np.vstack([np.ones(Q.shape[0]),np.ones(Q.shape[0])])"
   ]
  },
  {
   "cell_type": "code",
   "execution_count": 9,
   "metadata": {
    "collapsed": false,
    "scrolled": true
   },
   "outputs": [
    {
     "ename": "TypeError",
     "evalue": "update_cash_account() missing 1 required positional argument: 'share_balance'",
     "output_type": "error",
     "traceback": [
      "\u001b[1;31m---------------------------------------------------------------------------\u001b[0m",
      "\u001b[1;31mTypeError\u001b[0m                                 Traceback (most recent call last)",
      "\u001b[1;32m<ipython-input-9-9592a6c1d823>\u001b[0m in \u001b[0;36m<module>\u001b[1;34m()\u001b[0m\n\u001b[0;32m     17\u001b[0m \u001b[1;33m\u001b[0m\u001b[0m\n\u001b[0;32m     18\u001b[0m     \u001b[0mw\u001b[0m \u001b[1;33m=\u001b[0m \u001b[0mport\u001b[0m\u001b[1;33m.\u001b[0m\u001b[0mselect_by\u001b[0m\u001b[1;33m(\u001b[0m\u001b[1;34m'equalW'\u001b[0m\u001b[1;33m,\u001b[0m\u001b[0mret\u001b[0m\u001b[1;33m)\u001b[0m\u001b[1;33m\u001b[0m\u001b[0m\n\u001b[1;32m---> 19\u001b[1;33m     \u001b[0mcash_account\u001b[0m \u001b[1;33m+=\u001b[0m \u001b[0mupdate_cash_account\u001b[0m\u001b[1;33m(\u001b[0m\u001b[0mw\u001b[0m\u001b[1;33m,\u001b[0m\u001b[0mp\u001b[0m\u001b[1;33m,\u001b[0m\u001b[0mV\u001b[0m\u001b[1;33m)\u001b[0m\u001b[1;33m\u001b[0m\u001b[0m\n\u001b[0m\u001b[0;32m     20\u001b[0m     \u001b[0mportfolio_return\u001b[0m \u001b[1;33m=\u001b[0m \u001b[0mnp\u001b[0m\u001b[1;33m.\u001b[0m\u001b[0mvstack\u001b[0m\u001b[1;33m(\u001b[0m\u001b[1;33m[\u001b[0m\u001b[0mportfolio_return\u001b[0m\u001b[1;33m,\u001b[0m\u001b[1;33m[\u001b[0m\u001b[0mport\u001b[0m\u001b[1;33m.\u001b[0m\u001b[0mperformance\u001b[0m\u001b[1;33m,\u001b[0m\u001b[0mcash_account\u001b[0m\u001b[1;33m,\u001b[0m\u001b[0mV\u001b[0m\u001b[1;33m/\u001b[0m\u001b[1;36m1e6\u001b[0m\u001b[1;33m]\u001b[0m\u001b[1;33m]\u001b[0m\u001b[1;33m)\u001b[0m\u001b[1;33m\u001b[0m\u001b[0m\n",
      "\u001b[1;31mTypeError\u001b[0m: update_cash_account() missing 1 required positional argument: 'share_balance'"
     ]
    }
   ],
   "source": [
    "V_0 = [data.loc[start][x]*init_port[x] for x in init_port]\n",
    "rf = 0.0001\n",
    "dt=24\n",
    "cash_account = 0\n",
    "portfolio_return = np.empty([1,3])\n",
    "\n",
    "share_balance = portfolio\n",
    "w = np.ones([portfolio.shape[0]])*(1/portfolio.shape[0])\n",
    "\n",
    "period = data.index[data.index.is_month_start]\n",
    "for t in np.arange(2,24,dt):\n",
    "    \n",
    "    Q,mu,p,ret = get_data(t,24,start,data)\n",
    "    V = np.sum(p*share_balance) + cash_account*(1+rf)**t\n",
    "    port = prt.portfolio(Q,mu)\n",
    "    port.calculate_performance(w,ret)\n",
    "    \n",
    "    w = port.select_by('equalW',ret)\n",
    "    cash_account += update_cash_account(w,p,V)\n",
    "    portfolio_return = np.vstack([portfolio_return,[port.performance,cash_account,V/1e6]])\n"
   ]
  },
  {
   "cell_type": "code",
   "execution_count": null,
   "metadata": {
    "collapsed": false
   },
   "outputs": [],
   "source": [
    "plt.plot(portfolio_return[:,0])"
   ]
  },
  {
   "cell_type": "code",
   "execution_count": null,
   "metadata": {
    "collapsed": false
   },
   "outputs": [],
   "source": [
    "portfolio_return"
   ]
  },
  {
   "cell_type": "code",
   "execution_count": null,
   "metadata": {
    "collapsed": true
   },
   "outputs": [],
   "source": []
  }
 ],
 "metadata": {
  "kernelspec": {
   "display_name": "Python 3",
   "language": "python",
   "name": "python3"
  },
  "language_info": {
   "codemirror_mode": {
    "name": "ipython",
    "version": 3
   },
   "file_extension": ".py",
   "mimetype": "text/x-python",
   "name": "python",
   "nbconvert_exporter": "python",
   "pygments_lexer": "ipython3",
   "version": "3.6.3"
  }
 },
 "nbformat": 4,
 "nbformat_minor": 2
}
